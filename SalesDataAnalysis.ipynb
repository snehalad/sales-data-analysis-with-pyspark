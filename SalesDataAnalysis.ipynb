{
 "cells": [
  {
   "cell_type": "markdown",
   "metadata": {
    "application/vnd.databricks.v1+cell": {
     "cellMetadata": {
      "byteLimit": 2048000,
      "rowLimit": 10000
     },
     "inputWidgets": {},
     "nuid": "09343b53-4add-44d3-b3ac-6e5b53f45f87",
     "showTitle": false,
     "tableResultSettingsMap": {},
     "title": ""
    }
   },
   "source": [
    "#### 📁 Data Collection & Understanding"
   ]
  },
  {
   "cell_type": "code",
   "execution_count": 0,
   "metadata": {
    "application/vnd.databricks.v1+cell": {
     "cellMetadata": {
      "byteLimit": 2048000,
      "rowLimit": 10000
     },
     "inputWidgets": {},
     "nuid": "bf5908a8-8a07-4238-b00f-f3165cfd5476",
     "showTitle": false,
     "tableResultSettingsMap": {},
     "title": ""
    }
   },
   "outputs": [],
   "source": [
    "# /FileStore/tables/sales_data.csv\n",
    "from pyspark.sql import SparkSession\n",
    "from pyspark.sql.functions import *"
   ]
  },
  {
   "cell_type": "code",
   "execution_count": 0,
   "metadata": {
    "application/vnd.databricks.v1+cell": {
     "cellMetadata": {
      "byteLimit": 2048000,
      "rowLimit": 10000
     },
     "inputWidgets": {},
     "nuid": "f20f215a-b342-41ad-9f96-99cf27b86a62",
     "showTitle": false,
     "tableResultSettingsMap": {},
     "title": ""
    }
   },
   "outputs": [],
   "source": [
    "spark = SparkSession.builder.appName(\"SalesAnalysis\")\\\n",
    "                            .getOrCreate()"
   ]
  },
  {
   "cell_type": "code",
   "execution_count": 0,
   "metadata": {
    "application/vnd.databricks.v1+cell": {
     "cellMetadata": {
      "byteLimit": 2048000,
      "rowLimit": 10000
     },
     "inputWidgets": {},
     "nuid": "fa0415ae-7b40-4ce9-9cfd-30f039032276",
     "showTitle": false,
     "tableResultSettingsMap": {},
     "title": ""
    }
   },
   "outputs": [],
   "source": [
    "df = spark.read.csv(\"/FileStore/tables/sales_data.csv\", \n",
    "                    header=True,\n",
    "                    inferSchema=True)"
   ]
  },
  {
   "cell_type": "code",
   "execution_count": 0,
   "metadata": {
    "application/vnd.databricks.v1+cell": {
     "cellMetadata": {
      "byteLimit": 2048000,
      "rowLimit": 10000
     },
     "inputWidgets": {},
     "nuid": "dc055ed8-daf0-4446-9760-e05bea409797",
     "showTitle": false,
     "tableResultSettingsMap": {},
     "title": ""
    }
   },
   "outputs": [
    {
     "output_type": "stream",
     "name": "stdout",
     "output_type": "stream",
     "text": [
      "Out[4]: ['Region',\n 'Country',\n 'Item Type',\n 'Sales Channel',\n 'Order Priority',\n 'Order Date',\n 'Order ID',\n 'Ship Date',\n 'Units Sold',\n 'Unit Price',\n 'Unit Cost',\n 'Total Revenue',\n 'Total Cost',\n 'Total Profit']"
     ]
    }
   ],
   "source": [
    "df.columns"
   ]
  },
  {
   "cell_type": "code",
   "execution_count": 0,
   "metadata": {
    "application/vnd.databricks.v1+cell": {
     "cellMetadata": {
      "byteLimit": 2048000,
      "rowLimit": 10000
     },
     "inputWidgets": {},
     "nuid": "0f64a520-c8f2-46a3-81a1-331f5ac3986b",
     "showTitle": false,
     "tableResultSettingsMap": {},
     "title": ""
    }
   },
   "outputs": [
    {
     "output_type": "stream",
     "name": "stdout",
     "output_type": "stream",
     "text": [
      "Out[5]: [('Region', 'string'),\n ('Country', 'string'),\n ('Item Type', 'string'),\n ('Sales Channel', 'string'),\n ('Order Priority', 'string'),\n ('Order Date', 'date'),\n ('Order ID', 'int'),\n ('Ship Date', 'date'),\n ('Units Sold', 'int'),\n ('Unit Price', 'double'),\n ('Unit Cost', 'double'),\n ('Total Revenue', 'double'),\n ('Total Cost', 'double'),\n ('Total Profit', 'double')]"
     ]
    }
   ],
   "source": [
    "df.dtypes"
   ]
  },
  {
   "cell_type": "markdown",
   "metadata": {
    "application/vnd.databricks.v1+cell": {
     "cellMetadata": {
      "byteLimit": 2048000,
      "rowLimit": 10000
     },
     "inputWidgets": {},
     "nuid": "e5825e57-b5a5-470b-93b6-04599a576df8",
     "showTitle": false,
     "tableResultSettingsMap": {},
     "title": ""
    }
   },
   "source": [
    "#### 🧹 Data Cleaning & Preprocessing"
   ]
  },
  {
   "cell_type": "code",
   "execution_count": 0,
   "metadata": {
    "application/vnd.databricks.v1+cell": {
     "cellMetadata": {
      "byteLimit": 2048000,
      "rowLimit": 10000
     },
     "inputWidgets": {},
     "nuid": "50e15430-1917-4b49-96c6-d38bd377cfe0",
     "showTitle": false,
     "tableResultSettingsMap": {},
     "title": ""
    }
   },
   "outputs": [
    {
     "output_type": "stream",
     "name": "stdout",
     "output_type": "stream",
     "text": [
      "Out[6]: DataFrame[Region: string, Country: string, Item Type: string, Sales Channel: string, Order Priority: string, Order Date: date, Order ID: int, Ship Date: date, Units Sold: int, Unit Price: double, Unit Cost: double, Total Revenue: double, Total Cost: double, Total Profit: double]"
     ]
    }
   ],
   "source": [
    "df.na.drop() # drop null values"
   ]
  },
  {
   "cell_type": "code",
   "execution_count": 0,
   "metadata": {
    "application/vnd.databricks.v1+cell": {
     "cellMetadata": {
      "byteLimit": 2048000,
      "rowLimit": 10000
     },
     "inputWidgets": {},
     "nuid": "2f06c84b-9591-4454-be2a-e69cab91ce54",
     "showTitle": false,
     "tableResultSettingsMap": {},
     "title": ""
    }
   },
   "outputs": [
    {
     "output_type": "stream",
     "name": "stdout",
     "output_type": "stream",
     "text": [
      "Out[7]: 1000"
     ]
    }
   ],
   "source": [
    "df.count()"
   ]
  },
  {
   "cell_type": "code",
   "execution_count": 0,
   "metadata": {
    "application/vnd.databricks.v1+cell": {
     "cellMetadata": {
      "byteLimit": 2048000,
      "rowLimit": 10000
     },
     "inputWidgets": {},
     "nuid": "7c479977-c5a9-44a2-86be-336183aa962f",
     "showTitle": false,
     "tableResultSettingsMap": {},
     "title": ""
    }
   },
   "outputs": [
    {
     "output_type": "stream",
     "name": "stdout",
     "output_type": "stream",
     "text": [
      "Out[8]: DataFrame[Region: string, Country: string, Item Type: string, Sales Channel: string, Order Priority: string, Order Date: date, Order ID: int, Ship Date: date, Units Sold: int, Unit Price: double, Unit Cost: double, Total Revenue: double, Total Cost: double, Total Profit: double]"
     ]
    }
   ],
   "source": [
    "df.dropDuplicates() # drop duplicate values"
   ]
  },
  {
   "cell_type": "code",
   "execution_count": 0,
   "metadata": {
    "application/vnd.databricks.v1+cell": {
     "cellMetadata": {
      "byteLimit": 2048000,
      "rowLimit": 10000
     },
     "inputWidgets": {},
     "nuid": "10523c6a-5861-4f0a-b649-a4d16c2bcfeb",
     "showTitle": false,
     "tableResultSettingsMap": {},
     "title": ""
    }
   },
   "outputs": [
    {
     "output_type": "stream",
     "name": "stdout",
     "output_type": "stream",
     "text": [
      "+-----------+-------+-----------+-------------+--------------+----------+--------+----------+----------+----------+---------+-------------+----------+------------+--------------+\n|     Region|Country|  Item Type|Sales Channel|Order Priority|Order Date|Order ID| Ship Date|Units Sold|Unit Price|Unit Cost|Total Revenue|Total Cost|Total Profit|Shipping_Delay|\n+-----------+-------+-----------+-------------+--------------+----------+--------+----------+----------+----------+---------+-------------+----------+------------+--------------+\n|       Asia|  China|  Beverages|       Online|             C|2023-07-25|  148411|2023-07-28|        81|    179.66|   154.54|     14552.46|  12517.74|     2034.72|             3|\n|Middle East| Turkey|Electronics|      Offline|             C|2023-05-27|  189611|2023-05-31|        40|     93.93|    82.88|       3757.2|    3315.2|       442.0|             4|\n|       Asia|  Japan|  Beverages|      Offline|             H|2023-03-24|  588133|2023-03-27|       357|    132.64|    78.19|     47352.48|  27913.83|    19438.65|             3|\n+-----------+-------+-----------+-------------+--------------+----------+--------+----------+----------+----------+---------+-------------+----------+------------+--------------+\nonly showing top 3 rows\n\n"
     ]
    }
   ],
   "source": [
    "# Shipping Delay = Ship Date - Order Date\n",
    "df = df.withColumn(\"Shipping_Delay\", \n",
    "               datediff(col(\"Ship Date\"), col(\"Order Date\")))\n",
    "df.show(3)"
   ]
  },
  {
   "cell_type": "code",
   "execution_count": 0,
   "metadata": {
    "application/vnd.databricks.v1+cell": {
     "cellMetadata": {
      "byteLimit": 2048000,
      "rowLimit": 10000
     },
     "inputWidgets": {},
     "nuid": "15289450-d6ca-4d5f-9998-8130de99cbac",
     "showTitle": false,
     "tableResultSettingsMap": {},
     "title": ""
    }
   },
   "outputs": [
    {
     "output_type": "stream",
     "name": "stdout",
     "output_type": "stream",
     "text": [
      "+-----------+-------+-----------+-------------+--------------+----------+--------+----------+----------+----------+---------+-------------+----------+------------+--------------+-------------+\n|     Region|Country|  Item Type|Sales Channel|Order Priority|Order Date|Order ID| Ship Date|Units Sold|Unit Price|Unit Cost|Total Revenue|Total Cost|Total Profit|Shipping_Delay|Profit Margin|\n+-----------+-------+-----------+-------------+--------------+----------+--------+----------+----------+----------+---------+-------------+----------+------------+--------------+-------------+\n|       Asia|  China|  Beverages|       Online|             C|2023-07-25|  148411|2023-07-28|        81|    179.66|   154.54|     14552.46|  12517.74|     2034.72|             3|         0.14|\n|Middle East| Turkey|Electronics|      Offline|             C|2023-05-27|  189611|2023-05-31|        40|     93.93|    82.88|       3757.2|    3315.2|       442.0|             4|         0.12|\n|       Asia|  Japan|  Beverages|      Offline|             H|2023-03-24|  588133|2023-03-27|       357|    132.64|    78.19|     47352.48|  27913.83|    19438.65|             3|         0.41|\n+-----------+-------+-----------+-------------+--------------+----------+--------+----------+----------+----------+---------+-------------+----------+------------+--------------+-------------+\nonly showing top 3 rows\n\n"
     ]
    }
   ],
   "source": [
    "# Profit Margin = Total Profit / Total Revenue\n",
    "df = df.withColumn(\"Profit Margin\",\n",
    "              round(col(\"Total Profit\") / col(\"Total Revenue\"), 2))\n",
    "df.show(3)"
   ]
  },
  {
   "cell_type": "markdown",
   "metadata": {
    "application/vnd.databricks.v1+cell": {
     "cellMetadata": {
      "byteLimit": 2048000,
      "rowLimit": 10000
     },
     "inputWidgets": {},
     "nuid": "a62cc080-098c-4bc7-b26a-10897590954d",
     "showTitle": false,
     "tableResultSettingsMap": {},
     "title": ""
    }
   },
   "source": [
    "#### 🔝 Top profitable products by region"
   ]
  },
  {
   "cell_type": "code",
   "execution_count": 0,
   "metadata": {
    "application/vnd.databricks.v1+cell": {
     "cellMetadata": {
      "byteLimit": 2048000,
      "rowLimit": 10000
     },
     "inputWidgets": {},
     "nuid": "5bf76cd1-0180-4332-994b-c471b19f6d96",
     "showTitle": false,
     "tableResultSettingsMap": {},
     "title": ""
    }
   },
   "outputs": [
    {
     "output_type": "stream",
     "name": "stdout",
     "output_type": "stream",
     "text": [
      "+------------------+---------------+------------------+\n|            Region|      Item Type|      total_profit|\n+------------------+---------------+------------------+\n|              Asia|      Beverages| 285860.8599999999|\n|     South America|      Household|         150865.67|\n|            Europe|Office Supplies|183455.42000000004|\n|Sub-Saharan Africa|Office Supplies|         123255.78|\n|       Middle East|      Household| 292048.9099999999|\n+------------------+---------------+------------------+\nonly showing top 5 rows\n\n"
     ]
    }
   ],
   "source": [
    "profit_by_product_region = df.groupBy(\"Region\", \"Item Type\").agg(sum(\"Total Profit\").alias(\"total_profit\"))\n",
    "profit_by_product_region.show(5)"
   ]
  },
  {
   "cell_type": "code",
   "execution_count": 0,
   "metadata": {
    "application/vnd.databricks.v1+cell": {
     "cellMetadata": {
      "byteLimit": 2048000,
      "rowLimit": 10000
     },
     "inputWidgets": {},
     "nuid": "e98a8a8e-8cc6-4369-828b-58c0e03a6703",
     "showTitle": false,
     "tableResultSettingsMap": {},
     "title": ""
    }
   },
   "outputs": [
    {
     "output_type": "stream",
     "name": "stdout",
     "output_type": "stream",
     "text": [
      "+------------------+---------------+------------------+----+\n|Region            |Item Type      |total_profit      |rank|\n+------------------+---------------+------------------+----+\n|Asia              |Household      |292510.16000000003|1   |\n|Asia              |Beverages      |285860.8599999999 |2   |\n|Asia              |Office Supplies|285775.13         |3   |\n|Europe            |Electronics    |281476.89         |1   |\n|Europe            |Household      |254305.72999999998|2   |\n|Europe            |Clothing       |184641.58         |3   |\n|Middle East       |Household      |292048.9099999999 |1   |\n|Middle East       |Clothing       |255982.81000000008|2   |\n|Middle East       |Office Supplies|254063.71999999994|3   |\n|North America     |Electronics    |359804.66000000003|1   |\n|North America     |Beverages      |302849.25         |2   |\n|North America     |Household      |258328.85         |3   |\n|South America     |Office Supplies|351372.1100000001 |1   |\n|South America     |Electronics    |250902.23         |2   |\n|South America     |Baby Food      |217229.78         |3   |\n|Sub-Saharan Africa|Baby Food      |271741.24         |1   |\n|Sub-Saharan Africa|Household      |261213.25         |2   |\n|Sub-Saharan Africa|Electronics    |214088.63999999998|3   |\n+------------------+---------------+------------------+----+\n\n"
     ]
    }
   ],
   "source": [
    "from pyspark.sql.window import Window\n",
    "\n",
    "window = Window.partitionBy(\"Region\").orderBy(desc(\"total_profit\"))\n",
    "rank_product = profit_by_product_region.withColumn(\"rank\", row_number().over(window))\n",
    "\n",
    "# top 3 products\n",
    "top_region_product = rank_product.filter(col(\"rank\")<=3)\n",
    "top_region_product.show(truncate=False)"
   ]
  },
  {
   "cell_type": "markdown",
   "metadata": {
    "application/vnd.databricks.v1+cell": {
     "cellMetadata": {
      "byteLimit": 2048000,
      "rowLimit": 10000
     },
     "inputWidgets": {},
     "nuid": "65e5b3d4-b0f1-47c1-bd35-6ca513a2cb14",
     "showTitle": false,
     "tableResultSettingsMap": {},
     "title": ""
    }
   },
   "source": [
    "#### 📈 Monthly revenue and profit trends"
   ]
  },
  {
   "cell_type": "code",
   "execution_count": 0,
   "metadata": {
    "application/vnd.databricks.v1+cell": {
     "cellMetadata": {
      "byteLimit": 2048000,
      "rowLimit": 10000
     },
     "inputWidgets": {},
     "nuid": "f1e36b4b-7b2a-462d-9f61-7172e00ba60a",
     "showTitle": false,
     "tableResultSettingsMap": {},
     "title": ""
    }
   },
   "outputs": [
    {
     "output_type": "stream",
     "name": "stdout",
     "output_type": "stream",
     "text": [
      "+---------+-----------------+----------------+\n|yearMonth|sum_total_revenue|sum_total_profit|\n+---------+-----------------+----------------+\n|2023-01  |1976034.7        |580340.59       |\n|2023-02  |1732755.41       |490489.42       |\n|2023-03  |2590025.48       |840257.36       |\n|2023-04  |2162066.96       |680673.49       |\n|2023-05  |2409738.92       |740414.78       |\n|2023-06  |1987871.03       |546489.01       |\n|2023-07  |2096731.69       |585334.33       |\n|2023-08  |2256981.52       |728944.82       |\n|2023-09  |2288771.0        |690549.44       |\n|2023-10  |1931730.31       |608902.78       |\n|2023-11  |2374191.0        |698853.53       |\n|2023-12  |2198262.99       |695109.28       |\n|2024-01  |47058.3          |23398.65        |\n+---------+-----------------+----------------+\n\n"
     ]
    }
   ],
   "source": [
    "df = df.withColumn(\"order_date\",to_date(col(\"Order Date\"), \"yyyy-MM-dd\")) # format date\n",
    "df = df.withColumn(\"yearMonth\", date_format(col(\"order_date\"), \"yyyy-MM\")) # get year month for grouping\n",
    "\n",
    "monthly_revenue = df.groupBy(\"yearMonth\")\\\n",
    "                    .agg(\n",
    "                        round(sum(\"Total Revenue\"), 2).alias(\"sum_total_revenue\"),\n",
    "                        round(sum(\"Total Profit\"), 2).alias(\"sum_total_profit\")\n",
    "                    )\\\n",
    "                    .orderBy(\"yearMonth\")\n",
    "\n",
    "monthly_revenue.show(truncate=False)"
   ]
  },
  {
   "cell_type": "markdown",
   "metadata": {
    "application/vnd.databricks.v1+cell": {
     "cellMetadata": {
      "byteLimit": 2048000,
      "rowLimit": 10000
     },
     "inputWidgets": {},
     "nuid": "833cd719-0d27-43a0-b6ce-98968ab5b265",
     "showTitle": false,
     "tableResultSettingsMap": {},
     "title": ""
    }
   },
   "source": [
    "#### 📦 Average shipping time by country"
   ]
  },
  {
   "cell_type": "code",
   "execution_count": 0,
   "metadata": {
    "application/vnd.databricks.v1+cell": {
     "cellMetadata": {
      "byteLimit": 2048000,
      "rowLimit": 10000
     },
     "inputWidgets": {},
     "nuid": "8b025335-bd84-42da-853e-9e8147705816",
     "showTitle": false,
     "tableResultSettingsMap": {},
     "title": ""
    }
   },
   "outputs": [
    {
     "output_type": "stream",
     "name": "stdout",
     "output_type": "stream",
     "text": [
      "+--------------+---------------------+\n|       Country|average_shipping_time|\n+--------------+---------------------+\n|        France|    7.275862068965517|\n|         China|   7.7560975609756095|\n|   South Korea|    7.868421052631579|\n|         Kenya|               7.9375|\n|         India|    7.948717948717949|\n|       Nigeria|                  8.0|\n|      Colombia|    8.029411764705882|\n|       Germany|    8.076923076923077|\n|         Italy|    8.076923076923077|\n|         Spain|    8.137931034482758|\n|        Brazil|     8.23076923076923|\n|United Kingdom|    8.444444444444445|\n|  Saudi Arabia|    8.483870967741936|\n|         Chile|    8.535714285714286|\n|        Mexico|    8.580645161290322|\n|         Ghana|                 8.65|\n|        Canada|     8.65079365079365|\n|        Turkey|                 8.75|\n|         Japan|    8.755555555555556|\n|     Argentina|    9.105263157894736|\n+--------------+---------------------+\nonly showing top 20 rows\n\n"
     ]
    }
   ],
   "source": [
    "df = df.withColumn(\"order_date\", to_date(col(\"Order Date\"), \"yyyy-MM-dd\"))\\\n",
    "        .withColumn(\"shipping_date\", to_date(col(\"Ship Date\"), \"yyy-MM-dd\"))\n",
    "\n",
    "df = df.withColumn(\"shipping_delay\", datediff(\"shipping_date\", \"order_date\"))\\\n",
    "        \n",
    "avg_shippingTime_country = df.groupBy(\"Country\")\\\n",
    "                             .agg(avg(\"shipping_delay\").alias(\"average_shipping_time\"))\\\n",
    "                             .orderBy(col(\"average_shipping_time\").asc())\n",
    "\n",
    "avg_shippingTime_country.show()"
   ]
  },
  {
   "cell_type": "markdown",
   "metadata": {
    "application/vnd.databricks.v1+cell": {
     "cellMetadata": {
      "byteLimit": 2048000,
      "rowLimit": 10000
     },
     "inputWidgets": {},
     "nuid": "0d2e906b-7663-4c40-8746-9a1eb0229124",
     "showTitle": false,
     "tableResultSettingsMap": {},
     "title": ""
    }
   },
   "source": [
    "#### 💰 Compare Online vs. Offline sales performance"
   ]
  },
  {
   "cell_type": "code",
   "execution_count": 0,
   "metadata": {
    "application/vnd.databricks.v1+cell": {
     "cellMetadata": {
      "byteLimit": 2048000,
      "rowLimit": 10000
     },
     "inputWidgets": {},
     "nuid": "f6091bb1-0fcc-4bbb-ad88-839836b548f0",
     "showTitle": false,
     "tableResultSettingsMap": {},
     "title": ""
    }
   },
   "outputs": [
    {
     "output_type": "stream",
     "name": "stdout",
     "output_type": "stream",
     "text": [
      "+-------------+-----------------+----------------+-----+---------------+\n|Sales Channel|sum_total_revenue|sum_total_profit|count|avg_order_value|\n+-------------+-----------------+----------------+-----+---------------+\n|      Offline|    12,302,090.56|    3,716,455.25|  459|       26801.94|\n|       Online|    13,750,128.75|    4,193,302.23|  541|       25416.13|\n+-------------+-----------------+----------------+-----+---------------+\n\n"
     ]
    }
   ],
   "source": [
    "online_offline_sale = df.groupBy(\"Sales Channel\")\\\n",
    "                        .agg(\n",
    "                            round(sum(\"Total Revenue\"), 2).alias(\"sum_total_revenue\"),\n",
    "                            round(sum(\"Total Profit\"), 2).alias(\"sum_total_profit\"),\n",
    "                            countDistinct(\"Order ID\").alias(\"count\")\n",
    "                            )\\\n",
    "                        .withColumn(\"avg_order_value\", round(col(\"sum_total_revenue\")/col(\"count\") ,2))\\\n",
    "                        .orderBy(\"Sales Channel\")\n",
    "\n",
    "# 💡 What if you want to see the revenue & as a regular number?\n",
    "online_offline_sale = online_offline_sale.withColumn(\"sum_total_revenue\", format_number(col(\"sum_total_revenue\"), 2))\\\n",
    "                                        .withColumn(\"sum_total_profit\", format_number(col(\"sum_total_profit\"), 2))\n",
    "\n",
    "online_offline_sale.show()"
   ]
  },
  {
   "cell_type": "markdown",
   "metadata": {
    "application/vnd.databricks.v1+cell": {
     "cellMetadata": {
      "byteLimit": 2048000,
      "rowLimit": 10000
     },
     "inputWidgets": {},
     "nuid": "20ad2808-5325-4851-8be2-2695dd7953b6",
     "showTitle": false,
     "tableResultSettingsMap": {},
     "title": ""
    }
   },
   "source": [
    "#### 🚚 Effect of Order Priority on delivery time"
   ]
  },
  {
   "cell_type": "code",
   "execution_count": 0,
   "metadata": {
    "application/vnd.databricks.v1+cell": {
     "cellMetadata": {
      "byteLimit": 2048000,
      "rowLimit": 10000
     },
     "inputWidgets": {},
     "nuid": "581d49a9-624a-4d1c-b2c0-869453d7c1de",
     "showTitle": false,
     "tableResultSettingsMap": {},
     "title": ""
    }
   },
   "outputs": [
    {
     "output_type": "stream",
     "name": "stdout",
     "output_type": "stream",
     "text": [
      "+--------------+-----------------+--------+--------+\n|Order Priority|avg_delivery_time|min_days|max_days|\n+--------------+-----------------+--------+--------+\n|             L|             8.59|       2|      15|\n|             M|              8.8|       2|      15|\n|             C|             8.52|       2|      15|\n|             H|             8.17|       2|      15|\n+--------------+-----------------+--------+--------+\n\n"
     ]
    }
   ],
   "source": [
    "order_priority_summary = df.groupBy(\"Order Priority\")\\\n",
    "                            .agg(\n",
    "                                round(avg(\"shipping_delay\"), 2).alias(\"avg_delivery_time\"),\n",
    "                                min(\"shipping_delay\").alias(\"min_days\"),\n",
    "                                max(\"shipping_delay\").alias(\"max_days\")\n",
    "                            )\n",
    "\n",
    "order_priority_summary.show()"
   ]
  },
  {
   "cell_type": "markdown",
   "metadata": {
    "application/vnd.databricks.v1+cell": {
     "cellMetadata": {
      "byteLimit": 2048000,
      "rowLimit": 10000
     },
     "inputWidgets": {},
     "nuid": "48e20f8d-51ca-4def-875a-e3665581667a",
     "showTitle": false,
     "tableResultSettingsMap": {},
     "title": ""
    }
   },
   "source": [
    "#### 📉 Low-margin high-selling products"
   ]
  },
  {
   "cell_type": "code",
   "execution_count": 0,
   "metadata": {
    "application/vnd.databricks.v1+cell": {
     "cellMetadata": {
      "byteLimit": 2048000,
      "rowLimit": 10000
     },
     "inputWidgets": {},
     "nuid": "058ef86f-3343-4927-9ea2-394fed342dcb",
     "showTitle": false,
     "tableResultSettingsMap": {},
     "title": ""
    }
   },
   "outputs": [
    {
     "output_type": "stream",
     "name": "stdout",
     "output_type": "stream",
     "text": [
      "+---------------+---------------+-----------------+----------------+\n|      Item Type|total_unit_sold|avg_profit_margin|sum_total_profit|\n+---------------+---------------+-----------------+----------------+\n|Office Supplies|          44458|             0.32|      1396622.55|\n|      Baby Food|          38710|              0.3|      1129383.87|\n|    Electronics|          44219|              0.3|      1451169.58|\n+---------------+---------------+-----------------+----------------+\n\n"
     ]
    }
   ],
   "source": [
    "product_sales = df.groupBy(\"Item Type\")\\\n",
    "                  .agg(\n",
    "                      sum(\"Units Sold\").alias(\"total_unit_sold\"),\n",
    "                      round(avg(\"Profit Margin\"), 2).alias(\"avg_profit_margin\"),\n",
    "                      round(sum(\"Total Profit\"), 2).alias(\"sum_total_profit\")\n",
    "                  )\\\n",
    "                 .filter(\"avg_profit_margin > 0.10\")\\\n",
    "                 .orderBy(col('avg_profit_margin').desc())\\\n",
    "                 .limit(3)\n",
    "product_sales.show()"
   ]
  },
  {
   "cell_type": "code",
   "execution_count": 0,
   "metadata": {
    "application/vnd.databricks.v1+cell": {
     "cellMetadata": {
      "byteLimit": 2048000,
      "rowLimit": 10000
     },
     "inputWidgets": {},
     "nuid": "bd591a99-3481-4a36-bff1-67ab31f70e69",
     "showTitle": false,
     "tableResultSettingsMap": {},
     "title": ""
    }
   },
   "outputs": [],
   "source": []
  }
 ],
 "metadata": {
  "application/vnd.databricks.v1+notebook": {
   "computePreferences": null,
   "dashboards": [],
   "environmentMetadata": {
    "base_environment": "",
    "environment_version": "1"
   },
   "inputWidgetPreferences": null,
   "language": "python",
   "notebookMetadata": {
    "pythonIndentUnit": 4
   },
   "notebookName": "SalesDataAnalysis",
   "widgets": {}
  }
 },
 "nbformat": 4,
 "nbformat_minor": 0
}